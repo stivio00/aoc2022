{
 "cells": [
  {
   "cell_type": "code",
   "execution_count": 30,
   "metadata": {
    "dotnet_interactive": {
     "language": "csharp"
    },
    "vscode": {
     "languageId": "dotnet-interactive.csharp"
    }
   },
   "outputs": [],
   "source": [
    "using System.IO;"
   ]
  },
  {
   "cell_type": "code",
   "execution_count": 31,
   "metadata": {
    "dotnet_interactive": {
     "language": "csharp"
    },
    "vscode": {
     "languageId": "dotnet-interactive.csharp"
    }
   },
   "outputs": [],
   "source": [
    "var lines = File.ReadAllLines(\"input.txt\");"
   ]
  },
  {
   "cell_type": "code",
   "execution_count": 33,
   "metadata": {
    "dotnet_interactive": {
     "language": "csharp"
    },
    "vscode": {
     "languageId": "dotnet-interactive.csharp"
    }
   },
   "outputs": [
    {
     "data": {
      "text/html": [
       "<div class=\"dni-plaintext\">9177</div>"
      ]
     },
     "metadata": {},
     "output_type": "display_data"
    }
   ],
   "source": [
    "enum HandType {Rock = 1, Paper = 2, Scissor = 3};// ROCk A X 1// PAPER B Y 2// SCissor C Z 3\n",
    "enum State { Win = 6, Loose = 0, Draw = 3}\n",
    "\n",
    "Func<string, HandType> parseLetter = (c) => c switch {\n",
    "            var a when a==\"A\"||a==\"X\" => HandType.Rock,\n",
    "            var a when a==\"B\"||a==\"Y\" => HandType.Paper,\n",
    "            var a when a==\"C\"||a==\"Z\" => HandType.Scissor,\n",
    "            _ => 0\n",
    "};\n",
    "\n",
    "Func<HandType, HandType, State> play = (o,y) => (o,y) switch {\n",
    "    (o: var a, y: var b) when a == b => State.Draw,\n",
    "    (HandType.Rock, HandType.Paper)  => State.Win,\n",
    "    (HandType.Paper, HandType.Scissor)  => State.Win,\n",
    "    (HandType.Scissor, HandType.Rock )  => State.Win,\n",
    "    _ => State.Loose\n",
    "};\n",
    "\n",
    "Func<string, (HandType,HandType)> parse = line => {var l = line.Split(' '); return (parseLetter(l[0]), parseLetter(l[1]));};\n",
    " \n",
    "int points = 0;\n",
    "\n",
    "foreach(var line in lines) {\n",
    "    (var o, var y) = parse(line);\n",
    "    var state = play(o,y);\n",
    "    points += (int)state + (int)y;\n",
    "}\n",
    "\n",
    "points"
   ]
  },
  {
   "cell_type": "code",
   "execution_count": 38,
   "metadata": {
    "dotnet_interactive": {
     "language": "csharp"
    },
    "vscode": {
     "languageId": "dotnet-interactive.csharp"
    }
   },
   "outputs": [
    {
     "data": {
      "text/html": [
       "<div class=\"dni-plaintext\">12111</div>"
      ]
     },
     "metadata": {},
     "output_type": "display_data"
    }
   ],
   "source": [
    "int points = 0;\n",
    "\n",
    "Func<string, State> parseLetter2 = s => s switch {\n",
    "    \"X\" => State.Loose,\n",
    "    \"Y\" => State.Draw,\n",
    "    \"Z\" => State.Win,\n",
    "    _ => 0\n",
    "};\n",
    "\n",
    "Func<string, (HandType,State)> parse2 = line => {\n",
    "    var l = line.Split(' '); \n",
    "    return (parseLetter(l[0]), parseLetter2(l[1]));\n",
    "};\n",
    " \n",
    "int points2 = 0;\n",
    "foreach(var line in lines) {\n",
    "    (var o, var state) = parse2(line);\n",
    "    HandType y = 0;\n",
    "    if (state == State.Draw) \n",
    "        y = o;\n",
    "    else if (state == State.Win){ // YOU WIN\n",
    "        if ( o==HandType.Rock) y= HandType.Paper;\n",
    "        if ( o==HandType.Paper) y = HandType.Scissor;\n",
    "        if ( o==HandType.Scissor) y = HandType.Rock;\n",
    "    } else { //YOU LOOSE\n",
    "        if ( o==HandType.Rock) y= HandType.Scissor;\n",
    "        if ( o==HandType.Paper) y = HandType.Rock;\n",
    "        if ( o==HandType.Scissor) y = HandType.Paper;\n",
    "    }\n",
    "    points2 += (int)state + (int)y;\n",
    "}\n",
    "\n",
    "points2"
   ]
  },
  {
   "cell_type": "code",
   "execution_count": null,
   "metadata": {
    "dotnet_interactive": {
     "language": "csharp"
    },
    "vscode": {
     "languageId": "dotnet-interactive.csharp"
    }
   },
   "outputs": [],
   "source": [
    "Dictionar<State,Dictionary"
   ]
  }
 ],
 "metadata": {
  "kernelspec": {
   "display_name": ".NET (C#)",
   "language": "C#",
   "name": ".net-csharp"
  },
  "language_info": {
   "file_extension": ".cs",
   "mimetype": "text/x-csharp",
   "name": "C#",
   "pygments_lexer": "csharp",
   "version": "9.0"
  },
  "orig_nbformat": 4
 },
 "nbformat": 4,
 "nbformat_minor": 2
}
