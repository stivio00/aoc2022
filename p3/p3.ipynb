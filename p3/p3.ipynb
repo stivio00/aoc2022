{
 "cells": [
  {
   "cell_type": "code",
   "execution_count": 79,
   "metadata": {
    "dotnet_interactive": {
     "language": "csharp"
    },
    "vscode": {
     "languageId": "dotnet-interactive.csharp"
    }
   },
   "outputs": [],
   "source": [
    "using System.IO;"
   ]
  },
  {
   "cell_type": "code",
   "execution_count": 80,
   "metadata": {
    "dotnet_interactive": {
     "language": "csharp"
    },
    "vscode": {
     "languageId": "dotnet-interactive.csharp"
    }
   },
   "outputs": [],
   "source": [
    "var lines = File.ReadAllLines(\"input.txt\");"
   ]
  },
  {
   "cell_type": "code",
   "execution_count": 81,
   "metadata": {
    "dotnet_interactive": {
     "language": "csharp"
    },
    "vscode": {
     "languageId": "dotnet-interactive.csharp"
    }
   },
   "outputs": [],
   "source": [
    "Func<string,(string,string)> parse = s => {\n",
    "    int middle = s.Length / 2;\n",
    "    return (s.Substring(0,middle), s.Substring((middle)));\n",
    "};\n",
    "\n",
    "Func<string, int> prio = s => {\n",
    "    var c = s.ToCharArray()[0] ;\n",
    "    //return c;\n",
    "    if(c > 90)\n",
    "        return c -97 +1;\n",
    "    return c -65 +27;\n",
    "};"
   ]
  },
  {
   "cell_type": "code",
   "execution_count": 82,
   "metadata": {
    "dotnet_interactive": {
     "language": "csharp"
    },
    "vscode": {
     "languageId": "dotnet-interactive.csharp"
    }
   },
   "outputs": [
    {
     "data": {
      "text/html": [
       "<div class=\"dni-plaintext\">7848</div>"
      ]
     },
     "metadata": {},
     "output_type": "display_data"
    }
   ],
   "source": [
    "int points = 0;\n",
    "foreach(var line in lines) {\n",
    "    (var a, var b) = parse(line);\n",
    "    var c = a.Intersect(b);\n",
    "    points += c.Select(l => prio(l.ToString())).Sum();\n",
    "}\n",
    "points"
   ]
  }
 ],
 "metadata": {
  "kernelspec": {
   "display_name": ".NET (C#)",
   "language": "C#",
   "name": ".net-csharp"
  },
  "language_info": {
   "file_extension": ".cs",
   "mimetype": "text/x-csharp",
   "name": "C#",
   "pygments_lexer": "csharp",
   "version": "9.0"
  },
  "orig_nbformat": 4
 },
 "nbformat": 4,
 "nbformat_minor": 2
}
