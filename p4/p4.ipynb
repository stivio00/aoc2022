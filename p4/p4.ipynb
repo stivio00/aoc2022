{
 "cells": [
  {
   "cell_type": "code",
   "execution_count": 3,
   "metadata": {
    "dotnet_interactive": {
     "language": "csharp"
    },
    "vscode": {
     "languageId": "dotnet-interactive.csharp"
    }
   },
   "outputs": [],
   "source": [
    "using System.IO;"
   ]
  },
  {
   "cell_type": "code",
   "execution_count": 4,
   "metadata": {
    "dotnet_interactive": {
     "language": "csharp"
    },
    "vscode": {
     "languageId": "dotnet-interactive.csharp"
    }
   },
   "outputs": [],
   "source": [
    "var lines = File.ReadAllLines(\"input.txt\");"
   ]
  },
  {
   "cell_type": "code",
   "execution_count": 5,
   "metadata": {
    "dotnet_interactive": {
     "language": "csharp"
    },
    "vscode": {
     "languageId": "dotnet-interactive.csharp"
    }
   },
   "outputs": [
    {
     "data": {
      "text/html": [
       "<table><thead><tr><th><i>index</i></th><th>value</th></tr></thead><tbody><tr><td>0</td><td>31-31,32-40</td></tr><tr><td>1</td><td>26-92,13-91</td></tr><tr><td>2</td><td>9-90,29-91</td></tr><tr><td>3</td><td>72-72,25-73</td></tr><tr><td>4</td><td>28-79,79-79</td></tr><tr><td>5</td><td>52-77,53-53</td></tr><tr><td>6</td><td>17-54,17-54</td></tr><tr><td>7</td><td>11-47,4-10</td></tr><tr><td>8</td><td>1-96,1-97</td></tr><tr><td>9</td><td>38-99,39-63</td></tr><tr><td>10</td><td>19-54,18-53</td></tr><tr><td>11</td><td>1-73,1-73</td></tr><tr><td>12</td><td>17-34,18-34</td></tr><tr><td>13</td><td>93-93,25-94</td></tr><tr><td>14</td><td>96-98,7-95</td></tr><tr><td>15</td><td>58-97,73-98</td></tr><tr><td>16</td><td>7-64,8-64</td></tr><tr><td>17</td><td>87-91,67-90</td></tr><tr><td>18</td><td>42-78,77-85</td></tr><tr><td>19</td><td>24-96,24-97</td></tr><tr><td colspan=\"2\"><i>(981 more)</i></td></tr></tbody></table>"
      ]
     },
     "metadata": {},
     "output_type": "display_data"
    }
   ],
   "source": [
    "lines"
   ]
  },
  {
   "cell_type": "code",
   "execution_count": null,
   "metadata": {
    "dotnet_interactive": {
     "language": "csharp"
    },
    "vscode": {
     "languageId": "dotnet-interactive.csharp"
    }
   },
   "outputs": [],
   "source": []
  }
 ],
 "metadata": {
  "kernelspec": {
   "display_name": ".NET (C#)",
   "language": "C#",
   "name": ".net-csharp"
  },
  "language_info": {
   "file_extension": ".cs",
   "mimetype": "text/x-csharp",
   "name": "C#",
   "pygments_lexer": "csharp",
   "version": "9.0"
  },
  "orig_nbformat": 4
 },
 "nbformat": 4,
 "nbformat_minor": 2
}
